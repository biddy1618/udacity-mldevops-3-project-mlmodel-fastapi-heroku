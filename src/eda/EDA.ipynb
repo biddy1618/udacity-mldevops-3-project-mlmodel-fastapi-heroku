{
 "cells": [
  {
   "cell_type": "markdown",
   "metadata": {},
   "source": [
    "# Project - Deploying a Machine Learning Model on Heroku with FastAPI"
   ]
  },
  {
   "cell_type": "markdown",
   "metadata": {},
   "source": [
    "## Data Description"
   ]
  },
  {
   "cell_type": "markdown",
   "metadata": {},
   "source": [
    "### Source\n",
    "\n",
    "This data was extracted from the census bureau database found at http://www.census.gov/ftp/pub/DES/www/welcome.html\n",
    "```\n",
    "Donor: Ronny Kohavi and Barry Becker,\n",
    "       Data Mining and Visualization\n",
    "       Silicon Graphics.\n",
    "       e-mail: ronnyk@sgi.com for questions.\n",
    "```\n",
    "* Split into train-test using MLC++ GenCVFiles (2/3, 1/3 random).\n",
    "* 48842 instances, mix of continuous and discrete    (train=32561, test=16281)\n",
    "* 45222 if instances with unknown values are removed (train=30162, test=15060)\n",
    "* Duplicate or conflicting instances : 6\n",
    "* Class probabilities for adult.all file\n",
    "  * Probability for the label '>50K'  : 23.93% / 24.78% (without unknowns)\n",
    "  * Probability for the label '<=50K' : 76.07% / 75.22% (without unknowns)\n",
    "\n",
    "For this project, only __train set__ of __unfiltered instanes__ is used - __32561 instances__.\n",
    "\n",
    "### Objective\n",
    "Prediction task is to determine whether a person makes over 50K a year.\n",
    "\n",
    "\n",
    "### Transformations\n",
    "Conversion of original data as follows:\n",
    "1. Discretized gross income into two ranges with threshold 50,000.\n",
    "2. Convert U.S. to US to avoid periods.\n",
    "3. Convert Unknown to \"?\"\n",
    "4. Run MLC++ GenCVFiles to generate data,test.\n",
    "\n",
    "\n",
    "### Description of fnlwgt (final weight)\n",
    "The weights on the CPS files are controlled to independent estimates of the\n",
    "civilian noninstitutional population of the US.  These are prepared monthly\n",
    "for us by Population Division here at the Census Bureau.  We use 3 sets of\n",
    "controls.\n",
    "These are:\n",
    "1. A single cell estimate of the population 16+ for each state.\n",
    "2. Controls for Hispanic Origin by age and sex.\n",
    "3. Controls by Race, age and sex.\n",
    "We use all three sets of controls in our weighting program and \"rake\" through\n",
    "them 6 times so that by the end we come back to all the controls we used.\n",
    "The term estimate refers to population totals derived from CPS by creating\n",
    "\"weighted tallies\" of any specified socio-economic characteristics of the\n",
    "population.\n",
    "\n",
    "People with similar demographic characteristics should have\n",
    "similar weights.  There is one important caveat to remember\n",
    "about this statement.  That is that since the CPS sample is\n",
    "actually a collection of 51 state samples, each with its own\n",
    "probability of selection, the statement only applies within\n",
    "state.\n",
    "\n",
    "### Data values\n",
    "| name | values |\n",
    "|------|--------|\n",
    "| __salary__ | >50K, <=50K.|\n",
    "| age | continuous |\n",
    "| workclass | Private, Self-emp-not-inc, Self-emp-inc, Federal-gov, Local-gov, State-gov, Without-pay, Never-worked |\n",
    "| fnlwgt | continuous |\n",
    "| education | Bachelors, Some-college, 11th, HS-grad, Prof-school, Assoc-acdm, Assoc-voc, 9th, 7th-8th, 12th, Masters, 1st-4th, 10th, Doctorate, 5th-6th, Preschool |\n",
    "| education-num | continuous |\n",
    "| marital-status | Married-civ-spouse, Divorced, Never-married, Separated, Widowed, Married-spouse-absent, Married-AF-spouse |\n",
    "| occupation | Tech-support, Craft-repair, Other-service, Sales, Exec-managerial, Prof-specialty, Handlers-cleaners, Machine-op-inspct, Adm-clerical, Farming-fishing, Transport-moving, Priv-house-serv, Protective-serv, Armed-Forces |\n",
    "| relationship | Wife, Own-child, Husband, Not-in-family, Other-relative, Unmarried |\n",
    "| race | White, Asian-Pac-Islander, Amer-Indian-Eskimo, Other, Black |\n",
    "| sex | Female, Male |\n",
    "| capital-gain | continuous |\n",
    "| capital-loss | continuous |\n",
    "| hours-per-week | continuous |\n",
    "| native-country | United-States, Cambodia, England, Puerto-Rico, Canada, Germany, Outlying-US(Guam-USVI-etc), India, Japan, Greece, South, China, Cuba, Iran, Honduras, Philippines, Italy, Poland, Jamaica, Vietnam, Mexico, Portugal, Ireland, France, Dominican-Republic, Laos, Ecuador, Taiwan, Haiti, Columbia, Hungary, Guatemala, Nicaragua, Scotland, Thailand, Yugoslavia, El-Salvador, Trinadad&Tobago, Peru, Hong, Holand-Netherlands |"
   ]
  },
  {
   "cell_type": "markdown",
   "metadata": {},
   "source": [
    "## Getting raw data"
   ]
  },
  {
   "cell_type": "code",
   "execution_count": 1,
   "metadata": {},
   "outputs": [],
   "source": [
    "import pandas as pd"
   ]
  },
  {
   "cell_type": "code",
   "execution_count": 2,
   "metadata": {},
   "outputs": [
    {
     "data": {
      "text/html": [
       "<div>\n",
       "<style scoped>\n",
       "    .dataframe tbody tr th:only-of-type {\n",
       "        vertical-align: middle;\n",
       "    }\n",
       "\n",
       "    .dataframe tbody tr th {\n",
       "        vertical-align: top;\n",
       "    }\n",
       "\n",
       "    .dataframe thead th {\n",
       "        text-align: right;\n",
       "    }\n",
       "</style>\n",
       "<table border=\"1\" class=\"dataframe\">\n",
       "  <thead>\n",
       "    <tr style=\"text-align: right;\">\n",
       "      <th></th>\n",
       "      <th>age</th>\n",
       "      <th>workclass</th>\n",
       "      <th>fnlgt</th>\n",
       "      <th>education</th>\n",
       "      <th>education-num</th>\n",
       "      <th>marital-status</th>\n",
       "      <th>occupation</th>\n",
       "      <th>relationship</th>\n",
       "      <th>race</th>\n",
       "      <th>sex</th>\n",
       "      <th>capital-gain</th>\n",
       "      <th>capital-loss</th>\n",
       "      <th>hours-per-week</th>\n",
       "      <th>native-country</th>\n",
       "      <th>salary</th>\n",
       "    </tr>\n",
       "  </thead>\n",
       "  <tbody>\n",
       "    <tr>\n",
       "      <th>0</th>\n",
       "      <td>39</td>\n",
       "      <td>State-gov</td>\n",
       "      <td>77516</td>\n",
       "      <td>Bachelors</td>\n",
       "      <td>13</td>\n",
       "      <td>Never-married</td>\n",
       "      <td>Adm-clerical</td>\n",
       "      <td>Not-in-family</td>\n",
       "      <td>White</td>\n",
       "      <td>Male</td>\n",
       "      <td>2174</td>\n",
       "      <td>0</td>\n",
       "      <td>40</td>\n",
       "      <td>United-States</td>\n",
       "      <td>&lt;=50K</td>\n",
       "    </tr>\n",
       "    <tr>\n",
       "      <th>1</th>\n",
       "      <td>50</td>\n",
       "      <td>Self-emp-not-inc</td>\n",
       "      <td>83311</td>\n",
       "      <td>Bachelors</td>\n",
       "      <td>13</td>\n",
       "      <td>Married-civ-spouse</td>\n",
       "      <td>Exec-managerial</td>\n",
       "      <td>Husband</td>\n",
       "      <td>White</td>\n",
       "      <td>Male</td>\n",
       "      <td>0</td>\n",
       "      <td>0</td>\n",
       "      <td>13</td>\n",
       "      <td>United-States</td>\n",
       "      <td>&lt;=50K</td>\n",
       "    </tr>\n",
       "    <tr>\n",
       "      <th>2</th>\n",
       "      <td>38</td>\n",
       "      <td>Private</td>\n",
       "      <td>215646</td>\n",
       "      <td>HS-grad</td>\n",
       "      <td>9</td>\n",
       "      <td>Divorced</td>\n",
       "      <td>Handlers-cleaners</td>\n",
       "      <td>Not-in-family</td>\n",
       "      <td>White</td>\n",
       "      <td>Male</td>\n",
       "      <td>0</td>\n",
       "      <td>0</td>\n",
       "      <td>40</td>\n",
       "      <td>United-States</td>\n",
       "      <td>&lt;=50K</td>\n",
       "    </tr>\n",
       "    <tr>\n",
       "      <th>3</th>\n",
       "      <td>53</td>\n",
       "      <td>Private</td>\n",
       "      <td>234721</td>\n",
       "      <td>11th</td>\n",
       "      <td>7</td>\n",
       "      <td>Married-civ-spouse</td>\n",
       "      <td>Handlers-cleaners</td>\n",
       "      <td>Husband</td>\n",
       "      <td>Black</td>\n",
       "      <td>Male</td>\n",
       "      <td>0</td>\n",
       "      <td>0</td>\n",
       "      <td>40</td>\n",
       "      <td>United-States</td>\n",
       "      <td>&lt;=50K</td>\n",
       "    </tr>\n",
       "    <tr>\n",
       "      <th>4</th>\n",
       "      <td>28</td>\n",
       "      <td>Private</td>\n",
       "      <td>338409</td>\n",
       "      <td>Bachelors</td>\n",
       "      <td>13</td>\n",
       "      <td>Married-civ-spouse</td>\n",
       "      <td>Prof-specialty</td>\n",
       "      <td>Wife</td>\n",
       "      <td>Black</td>\n",
       "      <td>Female</td>\n",
       "      <td>0</td>\n",
       "      <td>0</td>\n",
       "      <td>40</td>\n",
       "      <td>Cuba</td>\n",
       "      <td>&lt;=50K</td>\n",
       "    </tr>\n",
       "  </tbody>\n",
       "</table>\n",
       "</div>"
      ],
      "text/plain": [
       "   age          workclass   fnlgt   education   education-num  \\\n",
       "0   39          State-gov   77516   Bachelors              13   \n",
       "1   50   Self-emp-not-inc   83311   Bachelors              13   \n",
       "2   38            Private  215646     HS-grad               9   \n",
       "3   53            Private  234721        11th               7   \n",
       "4   28            Private  338409   Bachelors              13   \n",
       "\n",
       "        marital-status          occupation    relationship    race      sex  \\\n",
       "0        Never-married        Adm-clerical   Not-in-family   White     Male   \n",
       "1   Married-civ-spouse     Exec-managerial         Husband   White     Male   \n",
       "2             Divorced   Handlers-cleaners   Not-in-family   White     Male   \n",
       "3   Married-civ-spouse   Handlers-cleaners         Husband   Black     Male   \n",
       "4   Married-civ-spouse      Prof-specialty            Wife   Black   Female   \n",
       "\n",
       "    capital-gain   capital-loss   hours-per-week  native-country  salary  \n",
       "0           2174              0               40   United-States   <=50K  \n",
       "1              0              0               13   United-States   <=50K  \n",
       "2              0              0               40   United-States   <=50K  \n",
       "3              0              0               40   United-States   <=50K  \n",
       "4              0              0               40            Cuba   <=50K  "
      ]
     },
     "execution_count": 2,
     "metadata": {},
     "output_type": "execute_result"
    }
   ],
   "source": [
    "DATA_PATH = '../data/census.csv'\n",
    "df = pd.read_csv(DATA_PATH)\n",
    "df.head()"
   ]
  },
  {
   "cell_type": "markdown",
   "metadata": {},
   "source": [
    "## Initial ETL"
   ]
  },
  {
   "cell_type": "markdown",
   "metadata": {},
   "source": [
    "### Remove trailing spaces"
   ]
  },
  {
   "cell_type": "code",
   "execution_count": 3,
   "metadata": {},
   "outputs": [
    {
     "name": "stdout",
     "output_type": "stream",
     "text": [
      "Trailing spaces: \n",
      "['age', ' workclass', ' fnlgt', ' education', ' education-num'] ...\n",
      "Removing spaces: \n",
      "['age', 'workclass', 'fnlgt', 'education', 'education_num'] ...\n"
     ]
    }
   ],
   "source": [
    "print(f'Trailing spaces: \\n{df.columns.tolist()[:5]} ...')\n",
    "def trim(dataset: pd.DataFrame, asdf: float = 0.0):\n",
    "    dataset.columns = [col.strip() for col in dataset.columns]\n",
    "    dataset.columns = [col.replace('-', '_') for col in dataset.columns]\n",
    "\n",
    "    return dataset.applymap(\n",
    "        lambda value: value.strip() if isinstance(value, str) else value)\n",
    "\n",
    "df = trim(df)\n",
    "print(f'Removing spaces: \\n{df.columns.tolist()[:5]} ...')"
   ]
  },
  {
   "cell_type": "markdown",
   "metadata": {},
   "source": [
    "### Replace `?` with `Unknown` for readability"
   ]
  },
  {
   "cell_type": "code",
   "execution_count": 4,
   "metadata": {},
   "outputs": [
    {
     "data": {
      "text/html": [
       "<div>\n",
       "<style scoped>\n",
       "    .dataframe tbody tr th:only-of-type {\n",
       "        vertical-align: middle;\n",
       "    }\n",
       "\n",
       "    .dataframe tbody tr th {\n",
       "        vertical-align: top;\n",
       "    }\n",
       "\n",
       "    .dataframe thead th {\n",
       "        text-align: right;\n",
       "    }\n",
       "</style>\n",
       "<table border=\"1\" class=\"dataframe\">\n",
       "  <thead>\n",
       "    <tr style=\"text-align: right;\">\n",
       "      <th></th>\n",
       "      <th>age</th>\n",
       "      <th>workclass</th>\n",
       "      <th>fnlgt</th>\n",
       "      <th>education</th>\n",
       "      <th>education_num</th>\n",
       "      <th>marital_status</th>\n",
       "      <th>occupation</th>\n",
       "      <th>relationship</th>\n",
       "      <th>race</th>\n",
       "      <th>sex</th>\n",
       "      <th>capital_gain</th>\n",
       "      <th>capital_loss</th>\n",
       "      <th>hours_per_week</th>\n",
       "      <th>native_country</th>\n",
       "      <th>salary</th>\n",
       "    </tr>\n",
       "  </thead>\n",
       "  <tbody>\n",
       "    <tr>\n",
       "      <th>14</th>\n",
       "      <td>40</td>\n",
       "      <td>Private</td>\n",
       "      <td>121772</td>\n",
       "      <td>Assoc-voc</td>\n",
       "      <td>11</td>\n",
       "      <td>Married-civ-spouse</td>\n",
       "      <td>Craft-repair</td>\n",
       "      <td>Husband</td>\n",
       "      <td>Asian-Pac-Islander</td>\n",
       "      <td>Male</td>\n",
       "      <td>0</td>\n",
       "      <td>0</td>\n",
       "      <td>40</td>\n",
       "      <td>?</td>\n",
       "      <td>&gt;50K</td>\n",
       "    </tr>\n",
       "    <tr>\n",
       "      <th>27</th>\n",
       "      <td>54</td>\n",
       "      <td>?</td>\n",
       "      <td>180211</td>\n",
       "      <td>Some-college</td>\n",
       "      <td>10</td>\n",
       "      <td>Married-civ-spouse</td>\n",
       "      <td>?</td>\n",
       "      <td>Husband</td>\n",
       "      <td>Asian-Pac-Islander</td>\n",
       "      <td>Male</td>\n",
       "      <td>0</td>\n",
       "      <td>0</td>\n",
       "      <td>60</td>\n",
       "      <td>South</td>\n",
       "      <td>&gt;50K</td>\n",
       "    </tr>\n",
       "    <tr>\n",
       "      <th>38</th>\n",
       "      <td>31</td>\n",
       "      <td>Private</td>\n",
       "      <td>84154</td>\n",
       "      <td>Some-college</td>\n",
       "      <td>10</td>\n",
       "      <td>Married-civ-spouse</td>\n",
       "      <td>Sales</td>\n",
       "      <td>Husband</td>\n",
       "      <td>White</td>\n",
       "      <td>Male</td>\n",
       "      <td>0</td>\n",
       "      <td>0</td>\n",
       "      <td>38</td>\n",
       "      <td>?</td>\n",
       "      <td>&gt;50K</td>\n",
       "    </tr>\n",
       "    <tr>\n",
       "      <th>51</th>\n",
       "      <td>18</td>\n",
       "      <td>Private</td>\n",
       "      <td>226956</td>\n",
       "      <td>HS-grad</td>\n",
       "      <td>9</td>\n",
       "      <td>Never-married</td>\n",
       "      <td>Other-service</td>\n",
       "      <td>Own-child</td>\n",
       "      <td>White</td>\n",
       "      <td>Female</td>\n",
       "      <td>0</td>\n",
       "      <td>0</td>\n",
       "      <td>30</td>\n",
       "      <td>?</td>\n",
       "      <td>&lt;=50K</td>\n",
       "    </tr>\n",
       "    <tr>\n",
       "      <th>61</th>\n",
       "      <td>32</td>\n",
       "      <td>?</td>\n",
       "      <td>293936</td>\n",
       "      <td>7th-8th</td>\n",
       "      <td>4</td>\n",
       "      <td>Married-spouse-absent</td>\n",
       "      <td>?</td>\n",
       "      <td>Not-in-family</td>\n",
       "      <td>White</td>\n",
       "      <td>Male</td>\n",
       "      <td>0</td>\n",
       "      <td>0</td>\n",
       "      <td>40</td>\n",
       "      <td>?</td>\n",
       "      <td>&lt;=50K</td>\n",
       "    </tr>\n",
       "  </tbody>\n",
       "</table>\n",
       "</div>"
      ],
      "text/plain": [
       "    age workclass   fnlgt     education  education_num         marital_status  \\\n",
       "14   40   Private  121772     Assoc-voc             11     Married-civ-spouse   \n",
       "27   54         ?  180211  Some-college             10     Married-civ-spouse   \n",
       "38   31   Private   84154  Some-college             10     Married-civ-spouse   \n",
       "51   18   Private  226956       HS-grad              9          Never-married   \n",
       "61   32         ?  293936       7th-8th              4  Married-spouse-absent   \n",
       "\n",
       "       occupation   relationship                race     sex  capital_gain  \\\n",
       "14   Craft-repair        Husband  Asian-Pac-Islander    Male             0   \n",
       "27              ?        Husband  Asian-Pac-Islander    Male             0   \n",
       "38          Sales        Husband               White    Male             0   \n",
       "51  Other-service      Own-child               White  Female             0   \n",
       "61              ?  Not-in-family               White    Male             0   \n",
       "\n",
       "    capital_loss  hours_per_week native_country salary  \n",
       "14             0              40              ?   >50K  \n",
       "27             0              60          South   >50K  \n",
       "38             0              38              ?   >50K  \n",
       "51             0              30              ?  <=50K  \n",
       "61             0              40              ?  <=50K  "
      ]
     },
     "execution_count": 4,
     "metadata": {},
     "output_type": "execute_result"
    }
   ],
   "source": [
    "def mark_question_row(row):\n",
    "    return row.astype(str).str.contains('?', regex=False).any()\n",
    "\n",
    "df.loc[df.apply(mark_question_row, axis=1)].head()"
   ]
  },
  {
   "cell_type": "code",
   "execution_count": 5,
   "metadata": {},
   "outputs": [
    {
     "name": "stdout",
     "output_type": "stream",
     "text": [
      "Number of rows containing `?`: 2399\n",
      "Number of rows containing `?` after replacement: 0\n"
     ]
    }
   ],
   "source": [
    "print(f'Number of rows containing `?`: {df.apply(mark_question_row, axis=1).sum()}')\n",
    "df.replace({'?': 'Unknown'}, inplace = True)\n",
    "print(f'Number of rows containing `?` after replacement: {df.apply(mark_question_row, axis=1).sum()}')\n"
   ]
  },
  {
   "cell_type": "markdown",
   "metadata": {},
   "source": [
    "### Remove duplicate rows"
   ]
  },
  {
   "cell_type": "code",
   "execution_count": 6,
   "metadata": {},
   "outputs": [
    {
     "data": {
      "text/html": [
       "<div>\n",
       "<style scoped>\n",
       "    .dataframe tbody tr th:only-of-type {\n",
       "        vertical-align: middle;\n",
       "    }\n",
       "\n",
       "    .dataframe tbody tr th {\n",
       "        vertical-align: top;\n",
       "    }\n",
       "\n",
       "    .dataframe thead th {\n",
       "        text-align: right;\n",
       "    }\n",
       "</style>\n",
       "<table border=\"1\" class=\"dataframe\">\n",
       "  <thead>\n",
       "    <tr style=\"text-align: right;\">\n",
       "      <th></th>\n",
       "      <th>age</th>\n",
       "      <th>workclass</th>\n",
       "      <th>fnlgt</th>\n",
       "      <th>education</th>\n",
       "      <th>education_num</th>\n",
       "      <th>marital_status</th>\n",
       "      <th>occupation</th>\n",
       "      <th>relationship</th>\n",
       "      <th>race</th>\n",
       "      <th>sex</th>\n",
       "      <th>capital_gain</th>\n",
       "      <th>capital_loss</th>\n",
       "      <th>hours_per_week</th>\n",
       "      <th>native_country</th>\n",
       "      <th>salary</th>\n",
       "    </tr>\n",
       "  </thead>\n",
       "  <tbody>\n",
       "    <tr>\n",
       "      <th>28846</th>\n",
       "      <td>39</td>\n",
       "      <td>Private</td>\n",
       "      <td>30916</td>\n",
       "      <td>HS-grad</td>\n",
       "      <td>9</td>\n",
       "      <td>Married-civ-spouse</td>\n",
       "      <td>Craft-repair</td>\n",
       "      <td>Husband</td>\n",
       "      <td>White</td>\n",
       "      <td>Male</td>\n",
       "      <td>0</td>\n",
       "      <td>0</td>\n",
       "      <td>40</td>\n",
       "      <td>United-States</td>\n",
       "      <td>&lt;=50K</td>\n",
       "    </tr>\n",
       "    <tr>\n",
       "      <th>25624</th>\n",
       "      <td>39</td>\n",
       "      <td>Private</td>\n",
       "      <td>30916</td>\n",
       "      <td>HS-grad</td>\n",
       "      <td>9</td>\n",
       "      <td>Married-civ-spouse</td>\n",
       "      <td>Craft-repair</td>\n",
       "      <td>Husband</td>\n",
       "      <td>White</td>\n",
       "      <td>Male</td>\n",
       "      <td>0</td>\n",
       "      <td>0</td>\n",
       "      <td>40</td>\n",
       "      <td>United-States</td>\n",
       "      <td>&lt;=50K</td>\n",
       "    </tr>\n",
       "    <tr>\n",
       "      <th>21875</th>\n",
       "      <td>49</td>\n",
       "      <td>Private</td>\n",
       "      <td>31267</td>\n",
       "      <td>7th-8th</td>\n",
       "      <td>4</td>\n",
       "      <td>Married-civ-spouse</td>\n",
       "      <td>Craft-repair</td>\n",
       "      <td>Husband</td>\n",
       "      <td>White</td>\n",
       "      <td>Male</td>\n",
       "      <td>0</td>\n",
       "      <td>0</td>\n",
       "      <td>40</td>\n",
       "      <td>United-States</td>\n",
       "      <td>&lt;=50K</td>\n",
       "    </tr>\n",
       "    <tr>\n",
       "      <th>7920</th>\n",
       "      <td>49</td>\n",
       "      <td>Private</td>\n",
       "      <td>31267</td>\n",
       "      <td>7th-8th</td>\n",
       "      <td>4</td>\n",
       "      <td>Married-civ-spouse</td>\n",
       "      <td>Craft-repair</td>\n",
       "      <td>Husband</td>\n",
       "      <td>White</td>\n",
       "      <td>Male</td>\n",
       "      <td>0</td>\n",
       "      <td>0</td>\n",
       "      <td>40</td>\n",
       "      <td>United-States</td>\n",
       "      <td>&lt;=50K</td>\n",
       "    </tr>\n",
       "    <tr>\n",
       "      <th>22494</th>\n",
       "      <td>49</td>\n",
       "      <td>Self-emp-not-inc</td>\n",
       "      <td>43479</td>\n",
       "      <td>Some-college</td>\n",
       "      <td>10</td>\n",
       "      <td>Married-civ-spouse</td>\n",
       "      <td>Craft-repair</td>\n",
       "      <td>Husband</td>\n",
       "      <td>White</td>\n",
       "      <td>Male</td>\n",
       "      <td>0</td>\n",
       "      <td>0</td>\n",
       "      <td>40</td>\n",
       "      <td>United-States</td>\n",
       "      <td>&lt;=50K</td>\n",
       "    </tr>\n",
       "  </tbody>\n",
       "</table>\n",
       "</div>"
      ],
      "text/plain": [
       "       age         workclass  fnlgt     education  education_num  \\\n",
       "28846   39           Private  30916       HS-grad              9   \n",
       "25624   39           Private  30916       HS-grad              9   \n",
       "21875   49           Private  31267       7th-8th              4   \n",
       "7920    49           Private  31267       7th-8th              4   \n",
       "22494   49  Self-emp-not-inc  43479  Some-college             10   \n",
       "\n",
       "           marital_status    occupation relationship   race   sex  \\\n",
       "28846  Married-civ-spouse  Craft-repair      Husband  White  Male   \n",
       "25624  Married-civ-spouse  Craft-repair      Husband  White  Male   \n",
       "21875  Married-civ-spouse  Craft-repair      Husband  White  Male   \n",
       "7920   Married-civ-spouse  Craft-repair      Husband  White  Male   \n",
       "22494  Married-civ-spouse  Craft-repair      Husband  White  Male   \n",
       "\n",
       "       capital_gain  capital_loss  hours_per_week native_country salary  \n",
       "28846             0             0              40  United-States  <=50K  \n",
       "25624             0             0              40  United-States  <=50K  \n",
       "21875             0             0              40  United-States  <=50K  \n",
       "7920              0             0              40  United-States  <=50K  \n",
       "22494             0             0              40  United-States  <=50K  "
      ]
     },
     "execution_count": 6,
     "metadata": {},
     "output_type": "execute_result"
    }
   ],
   "source": [
    "df[df.duplicated(keep = False)].sort_values('fnlgt').head()"
   ]
  },
  {
   "cell_type": "code",
   "execution_count": 7,
   "metadata": {},
   "outputs": [
    {
     "name": "stdout",
     "output_type": "stream",
     "text": [
      "Number of rows: 32561\n",
      "Number of rows after duplicates drop: 32537\n"
     ]
    }
   ],
   "source": [
    "print(f'Number of rows: {df.shape[0]}')\n",
    "df.drop_duplicates(inplace = True)\n",
    "print(f'Number of rows after duplicates drop: {df.shape[0]}')"
   ]
  },
  {
   "cell_type": "markdown",
   "metadata": {},
   "source": [
    "## `pandas_profiling` for initial EDA"
   ]
  },
  {
   "cell_type": "code",
   "execution_count": null,
   "metadata": {},
   "outputs": [],
   "source": [
    "from pandas_profiling import ProfileReport\n",
    "\n",
    "profile = ProfileReport(df, title=\"Pandas Profiling Report\", explorative=True)\n",
    "profile"
   ]
  },
  {
   "cell_type": "markdown",
   "metadata": {},
   "source": [
    "## ETL (for baseline)"
   ]
  },
  {
   "cell_type": "code",
   "execution_count": 8,
   "metadata": {},
   "outputs": [],
   "source": [
    "RANDOM_STATE = 48\n",
    "TEST_SIZE = 0.2"
   ]
  },
  {
   "cell_type": "markdown",
   "metadata": {},
   "source": [
    "### Columns' types"
   ]
  },
  {
   "cell_type": "markdown",
   "metadata": {},
   "source": [
    "`education` and `education-num` have Pearson's correlation of 1.0, but `education_num` has ordinal information."
   ]
  },
  {
   "cell_type": "markdown",
   "metadata": {},
   "source": [
    "cat_features = ['workclass', 'education', 'marital_status', 'occupation', 'relationship', 'race', 'sex', 'native_country']\n",
    "num_features = ['age', 'fnlgt', 'education_num', 'capital_gain', 'capital_loss', 'hours_per_week']\n",
    "target = 'salary'\n",
    "\n",
    "df = df[cat_features + num_features + [target]]"
   ]
  },
  {
   "cell_type": "markdown",
   "metadata": {},
   "source": [
    "### Ordinal columns' order"
   ]
  },
  {
   "cell_type": "code",
   "execution_count": 10,
   "metadata": {},
   "outputs": [],
   "source": [
    "workclass_order = ['Private', 'Self-emp-inc', 'Self-emp-not-inc', 'Local-gov', 'State-gov', 'Federal-gov', 'Without-pay', 'Never-worked', 'Unknown', 'Other']\n",
    "education_order = ['Preschool', '1st-4th', '5th-6th', '7th-8th', '9th', '10th', '11th', '12th', 'HS-grad', 'Some-college', 'Assoc-voc', 'Assoc-acdm', 'Bachelors', 'Masters', 'Prof-school', 'Doctorate', 'Other']\n",
    "marital_status_order = ['Married-civ-spouse', 'Married-AF-spouse', 'Married-spouse-absent', 'Separated', 'Divorced', 'Widowed', 'Never-married', 'Other']\n",
    "relationship_order = ['Husband', 'Wife', 'Own-child', 'Unmarried', 'Not-in-family', 'Other-relative', 'Other']\n",
    "\n",
    "cat_order = {\n",
    "    'workclass': workclass_order,\n",
    "    'education': education_order,\n",
    "    'marital_status': marital_status_order,\n",
    "    'occupation': None,\n",
    "    'relationship': relationship_order,\n",
    "    'race': None,\n",
    "    'sex': None,\n",
    "    'native_country': None\n",
    "}"
   ]
  },
  {
   "cell_type": "markdown",
   "metadata": {},
   "source": [
    "### Transforming independent variables"
   ]
  },
  {
   "cell_type": "code",
   "execution_count": 11,
   "metadata": {},
   "outputs": [
    {
     "name": "stdout",
     "output_type": "stream",
     "text": [
      "Transformed data shape: (32537, 108)\n",
      "Label `<=50K` encoded into: `0`\n",
      "Label `>50K` encoded into: `1`\n",
      "Transformed target shape: (32537,)\n"
     ]
    }
   ],
   "source": [
    "from sklearn.preprocessing import LabelEncoder, OneHotEncoder\n",
    "from sklearn.compose import ColumnTransformer\n",
    "from sklearn.impute import SimpleImputer\n",
    "\n",
    "\n",
    "categorical = ['workclass', 'education', 'marital_status', 'occupation', 'relationship', 'race', 'sex', 'native_country']\n",
    "categorical_preproc = OneHotEncoder(sparse=False, handle_unknown='ignore')\n",
    "\n",
    "zero_imputed = ['fnlgt', 'capital_gain', 'capital_loss']\n",
    "zero_imputer = SimpleImputer(strategy='constant', fill_value=0)\n",
    "\n",
    "median_imputed = ['hours_per_week']\n",
    "median_imputer = SimpleImputer(strategy='median')\n",
    "\n",
    "preprocessor = ColumnTransformer(\n",
    "    transformers=[\n",
    "        ('categorical', categorical_preproc, categorical),\n",
    "        ('zero_imputed', zero_imputer, zero_imputed),\n",
    "        ('median_imputed', median_imputer, median_imputed)\n",
    "    ],\n",
    "    remainder='passthrough',\n",
    ")\n",
    "\n",
    "X = preprocessor.fit_transform(df[num_features + cat_features])\n",
    "print(f'Transformed data shape: {X.shape}')\n",
    "\n",
    "target_preprocessor = LabelEncoder()\n",
    "y = target_preprocessor.fit_transform(df[target].values)\n",
    "\n",
    "\n",
    "for i, c in enumerate(target_preprocessor.classes_):\n",
    "    print(f'Label `{c}` encoded into: `{i}`')\n",
    "print(f'Transformed target shape: {y.shape}')\n"
   ]
  },
  {
   "cell_type": "markdown",
   "metadata": {},
   "source": [
    "## Baseline model(s)"
   ]
  },
  {
   "cell_type": "code",
   "execution_count": 12,
   "metadata": {},
   "outputs": [],
   "source": [
    "from sklearn.model_selection import train_test_split\n",
    "\n",
    "X_train, X_test, y_train, y_test = train_test_split(X, y, test_size = TEST_SIZE, stratify = y, random_state = RANDOM_STATE)"
   ]
  },
  {
   "cell_type": "markdown",
   "metadata": {},
   "source": [
    "### Gradient Boosting classifier (sklearn)"
   ]
  },
  {
   "cell_type": "code",
   "execution_count": 14,
   "metadata": {},
   "outputs": [
    {
     "name": "stdout",
     "output_type": "stream",
     "text": [
      "F1 beta score        : 0.694\n",
      "Precision (PPV) score: 0.776\n",
      "Recal (TPR) score    : 0.628\n"
     ]
    },
    {
     "data": {
      "image/png": "[encoded data removed]",
      "text/plain": [
       "<Figure size 1000x500 with 3 Axes>"
      ]
     },
     "metadata": {},
     "output_type": "display_data"
    }
   ],
   "source": [
    "from sklearn.metrics import fbeta_score, precision_score, recall_score, ConfusionMatrixDisplay, PrecisionRecallDisplay\n",
    "\n",
    "import matplotlib.pyplot as plt\n",
    "%matplotlib inline\n",
    "\n",
    "from sklearn.ensemble import GradientBoostingClassifier\n",
    "\n",
    "gbc = GradientBoostingClassifier(random_state = RANDOM_STATE)\n",
    "gbc.fit(X_train, y_train)\n",
    "\n",
    "# make the prediction using the resulting model\n",
    "y_pred = gbc.predict(X_test)\n",
    "y_pred_proba = gbc.predict_proba(X_test)\n",
    "\n",
    "fbeta = fbeta_score(y_test, y_pred, beta=1, zero_division=1)\n",
    "precision = precision_score(y_test, y_pred, zero_division=1)\n",
    "recall = recall_score(y_test, y_pred, zero_division=1)\n",
    "\n",
    "print(f'F1 beta score        : {fbeta:.3f}')\n",
    "print(f'Precision (PPV) score: {precision:.3f}')\n",
    "print(f'Recal (TPR) score    : {recall:.3f}')\n",
    "\n",
    "fig, axes = plt.subplots(1, 2, figsize = (10, 5))\n",
    "\n",
    "ConfusionMatrixDisplay.from_predictions(\n",
    "    y_test,\n",
    "    y_pred,\n",
    "    display_labels = target_preprocessor.classes_,\n",
    "    ax = axes[0]\n",
    ")\n",
    "\n",
    "PrecisionRecallDisplay.from_predictions(\n",
    "    y_test,\n",
    "    y_pred_proba[:, 1],\n",
    "    ax = axes[1]\n",
    ")\n",
    "\n",
    "plt.tight_layout()\n",
    "plt.show()"
   ]
  },
  {
   "cell_type": "markdown",
   "metadata": {},
   "source": [
    "#### Testing exporting and loading model and running inference"
   ]
  },
  {
   "cell_type": "code",
   "execution_count": 15,
   "metadata": {},
   "outputs": [
    {
     "data": {
      "text/plain": [
       "['model_pipeline.joblib']"
      ]
     },
     "execution_count": 15,
     "metadata": {},
     "output_type": "execute_result"
    }
   ],
   "source": [
    "from joblib import dump, load\n",
    "MODEL_PATH = 'model_pipeline.joblib'\n",
    "\n",
    "model_pipeline = {\n",
    "    'ind_features': num_features + cat_features,\n",
    "    'target': target,\n",
    "    'preprocessor': preprocessor,\n",
    "    'target_preprocessor': target_preprocessor,\n",
    "    'classifier': gbc\n",
    "}\n",
    "\n",
    "dump(model_pipeline, MODEL_PATH)"
   ]
  },
  {
   "cell_type": "code",
   "execution_count": null,
   "metadata": {},
   "outputs": [],
   "source": [
    "model = load(MODEL_PATH)\n",
    "\n",
    "_, X_test, _, y_test = train_test_split(\n",
    "    df[model['cat_features'] + model['num_features']],\n",
    "    df[model['target']],\n",
    "    test_size = TEST_SIZE,\n",
    "    stratify = df[model['target']],\n",
    "    random_state = RANDOM_STATE)\n",
    "\n",
    "X_cat = model['cat_encoder'].transform(\n",
    "    X_test[model['cat_features']].values)\n",
    "X_num = X_test[model['num_features']].values\n",
    "X_test = np.concatenate([X_num, X_cat], axis=1)\n",
    "\n",
    "y_test = model['target_encoder'].transform(y_test.values)\n",
    "\n",
    "pred = model['classifier'].predict(X_test)\n",
    "y_pred_proba = model['classifier'].predict_proba(X_test)\n",
    "\n",
    "fbeta = fbeta_score(y_test, y_pred, beta=1, zero_division=1)\n",
    "precision = precision_score(y_test, y_pred, zero_division=1)\n",
    "recall = recall_score(y_test, y_pred, zero_division=1)\n",
    "\n",
    "print(f'F1 beta score        : {fbeta:.3f}')\n",
    "print(f'Precision (PPV) score: {precision:.3f}')\n",
    "print(f'Recal (TPR) score    : {recall:.3f}')"
   ]
  },
  {
   "cell_type": "markdown",
   "metadata": {},
   "source": [
    "### AdaBoost classifier (sklearn)"
   ]
  },
  {
   "cell_type": "code",
   "execution_count": null,
   "metadata": {},
   "outputs": [],
   "source": [
    "from sklearn.ensemble import AdaBoostClassifier\n",
    "\n",
    "abc = AdaBoostClassifier(random_state = RANDOM_STATE)\n",
    "abc.fit(X_train, y_train)\n",
    "\n",
    "# make the prediction using the resulting model\n",
    "y_pred = abc.predict(X_test)\n",
    "y_pred_proba = abc.predict_proba(X_test)\n",
    "\n",
    "fbeta = fbeta_score(y_test, y_pred, beta=1, zero_division=1)\n",
    "precision = precision_score(y_test, y_pred, zero_division=1)\n",
    "recall = recall_score(y_test, y_pred, zero_division=1)\n",
    "\n",
    "print(f'F1 beta score        : {fbeta:.3f}')\n",
    "print(f'Precision (PPV) score: {precision:.3f}')\n",
    "print(f'Recal (TPR) score    : {recall:.3f}')\n",
    "\n",
    "fig, axes = plt.subplots(1, 2, figsize = (10, 5))\n",
    "\n",
    "ConfusionMatrixDisplay.from_predictions(\n",
    "    y_test,\n",
    "    y_pred,\n",
    "    display_labels = target_encoder.classes_,\n",
    "    ax = axes[0]\n",
    ")\n",
    "\n",
    "PrecisionRecallDisplay.from_predictions(\n",
    "    y_test,\n",
    "    y_pred_proba[:, 1],\n",
    "    ax = axes[1]\n",
    ")\n",
    "\n",
    "plt.tight_layout()\n",
    "plt.show()"
   ]
  },
  {
   "cell_type": "markdown",
   "metadata": {},
   "source": [
    "### Random forest classifier"
   ]
  },
  {
   "cell_type": "code",
   "execution_count": null,
   "metadata": {},
   "outputs": [],
   "source": [
    "from sklearn.ensemble import RandomForestClassifier\n",
    "\n",
    "rfc = RandomForestClassifier(random_state = RANDOM_STATE)\n",
    "rfc.fit(X_train, y_train)\n",
    "\n",
    "# make the prediction using the resulting model\n",
    "y_pred = rfc.predict(X_test)\n",
    "y_pred_proba = rfc.predict_proba(X_test)\n",
    "\n",
    "fbeta = fbeta_score(y_test, y_pred, beta=1, zero_division=1)\n",
    "precision = precision_score(y_test, y_pred, zero_division=1)\n",
    "recall = recall_score(y_test, y_pred, zero_division=1)\n",
    "\n",
    "print(f'F1 beta score        : {fbeta:.3f}')\n",
    "print(f'Precision (PPV) score: {precision:.3f}')\n",
    "print(f'Recal (TPR) score    : {recall:.3f}')\n",
    "\n",
    "fig, axes = plt.subplots(1, 2, figsize = (10, 5))\n",
    "\n",
    "ConfusionMatrixDisplay.from_predictions(\n",
    "    y_test,\n",
    "    y_pred,\n",
    "    display_labels = target_encoder.classes_,\n",
    "    ax = axes[0]\n",
    ")\n",
    "\n",
    "PrecisionRecallDisplay.from_predictions(\n",
    "    y_test,\n",
    "    y_pred_proba[:, 1],\n",
    "    ax = axes[1]\n",
    ")\n",
    "\n",
    "plt.tight_layout()\n",
    "plt.show()"
   ]
  },
  {
   "cell_type": "markdown",
   "metadata": {},
   "source": [
    "### Logistic regression classifier"
   ]
  },
  {
   "cell_type": "code",
   "execution_count": null,
   "metadata": {},
   "outputs": [],
   "source": [
    "from sklearn.linear_model import LogisticRegression\n",
    "\n",
    "lr = LogisticRegression(random_state = RANDOM_STATE)\n",
    "lr.fit(X_train, y_train)\n",
    "\n",
    "# make the prediction using the resulting model\n",
    "y_pred = lr.predict(X_test)\n",
    "y_pred_proba = lr.predict_proba(X_test)\n",
    "\n",
    "fbeta = fbeta_score(y_test, y_pred, beta=1, zero_division=1)\n",
    "precision = precision_score(y_test, y_pred, zero_division=1)\n",
    "recall = recall_score(y_test, y_pred, zero_division=1)\n",
    "\n",
    "print(f'F1 beta score        : {fbeta:.3f}')\n",
    "print(f'Precision (PPV) score: {precision:.3f}')\n",
    "print(f'Recal (TPR) score    : {recall:.3f}')\n",
    "\n",
    "fig, axes = plt.subplots(1, 2, figsize = (10, 5))\n",
    "\n",
    "ConfusionMatrixDisplay.from_predictions(\n",
    "    y_test,\n",
    "    y_pred,\n",
    "    display_labels = target_encoder.classes_,\n",
    "    ax = axes[0]\n",
    ")\n",
    "\n",
    "PrecisionRecallDisplay.from_predictions(\n",
    "    y_test,\n",
    "    y_pred_proba[:, 1],\n",
    "    ax = axes[1]\n",
    ")\n",
    "\n",
    "plt.tight_layout()\n",
    "plt.show()"
   ]
  },
  {
   "cell_type": "markdown",
   "metadata": {},
   "source": [
    "### Catboost - does not require preprocessing of categorical variables"
   ]
  },
  {
   "cell_type": "markdown",
   "metadata": {},
   "source": [
    "#### ETL for catboost"
   ]
  },
  {
   "cell_type": "code",
   "execution_count": null,
   "metadata": {},
   "outputs": [],
   "source": [
    "y = df[target]\n",
    "X = df.loc[:, df.columns != target]\n",
    "\n",
    "y = target_encoder.transform(y)\n",
    "\n",
    "X_train, X_test, y_train, y_test = train_test_split(X, y, test_size = 0.2, stratify = y, random_state = RANDOM_STATE)"
   ]
  },
  {
   "cell_type": "markdown",
   "metadata": {},
   "source": [
    "#### Model training"
   ]
  },
  {
   "cell_type": "code",
   "execution_count": null,
   "metadata": {},
   "outputs": [],
   "source": [
    "from catboost import CatBoostClassifier\n",
    "\n",
    "\n",
    "cbc = CatBoostClassifier(\n",
    "    cat_features = cat_features,\n",
    "    random_seed = RANDOM_STATE,\n",
    "    verbose = False)\n",
    "\n",
    "# train the model\n",
    "cbc.fit(X_train, y_train)\n",
    "\n",
    "# make the prediction using the resulting model\n",
    "y_pred = cbc.predict(X_test)\n",
    "y_pred_proba = cbc.predict_proba(X_test)\n",
    "\n",
    "fbeta = fbeta_score(y_test, y_pred, beta=1, zero_division=1)\n",
    "precision = precision_score(y_test, y_pred, zero_division=1)\n",
    "recall = recall_score(y_test, y_pred, zero_division=1)\n",
    "\n",
    "print(f'F1 beta score        : {fbeta:.3f}')\n",
    "print(f'Precision (PPV) score: {precision:.3f}')\n",
    "print(f'Recal (TPR) score    : {recall:.3f}')\n",
    "\n",
    "fig, axes = plt.subplots(1, 2, figsize = (10, 5))\n",
    "\n",
    "ConfusionMatrixDisplay.from_predictions(\n",
    "    y_test,\n",
    "    y_pred,\n",
    "    display_labels = target_encoder.classes_,\n",
    "    ax = axes[0]\n",
    ")\n",
    "\n",
    "PrecisionRecallDisplay.from_predictions(\n",
    "    y_test,\n",
    "    y_pred_proba[:, 1],\n",
    "    ax = axes[1]\n",
    ")\n",
    "\n",
    "plt.tight_layout()\n",
    "plt.show()"
   ]
  },
  {
   "cell_type": "markdown",
   "metadata": {},
   "source": [
    "## EDA"
   ]
  },
  {
   "cell_type": "markdown",
   "metadata": {},
   "source": [
    "### Target feature plots"
   ]
  },
  {
   "cell_type": "code",
   "execution_count": null,
   "metadata": {},
   "outputs": [],
   "source": [
    "import seaborn as sns\n",
    "sns.set_theme(style=\"darkgrid\")"
   ]
  },
  {
   "cell_type": "markdown",
   "metadata": {},
   "source": [
    "#### Categorical variables - Plots without percentile filtration"
   ]
  },
  {
   "cell_type": "code",
   "execution_count": null,
   "metadata": {},
   "outputs": [],
   "source": [
    "fig, axes = plt.subplots((len(cat_features) + 2) // 3, 3, figsize = (20, 20))\n",
    "\n",
    "for i, cat_f in enumerate(cat_features):\n",
    "    ix = i % 3\n",
    "    iy = i // 3\n",
    "    sns.countplot(\n",
    "        data = df,\n",
    "        y = cat_f,\n",
    "        hue = target,\n",
    "        ax = axes[iy, ix],\n",
    "        order = cat_order[cat_f]\n",
    "    )\n",
    "\n",
    "plt.tight_layout()\n",
    "plt.show()\n"
   ]
  },
  {
   "cell_type": "markdown",
   "metadata": {},
   "source": [
    "#### Categorical variables - Plots with percentile filtration"
   ]
  },
  {
   "cell_type": "code",
   "execution_count": null,
   "metadata": {},
   "outputs": [],
   "source": [
    "def _transform_get_percentile(df, cat_f, target, percentile = 0.95):\n",
    "    \n",
    "    tmp_df = df[[cat_f, target]].copy(deep = True)\n",
    "    value_counts = tmp_df[cat_f].value_counts()\n",
    "    within_percentile = value_counts[value_counts.cumsum() <= percentile * tmp_df.shape[0]].index.tolist()\n",
    "    tmp_df[cat_f] = tmp_df[cat_f].map(lambda x: x if x in within_percentile else 'Other')\n",
    "\n",
    "    return tmp_df\n",
    "\n",
    "\n",
    "fig, axes = plt.subplots((len(cat_features) + 2) // 3, 3, figsize = (20, 15))\n",
    "\n",
    "for i, cat_f in enumerate(cat_features):\n",
    "    tmp_df = _transform_get_percentile(df, cat_f, target)\n",
    "    ix = i % 3\n",
    "    iy = i // 3\n",
    "    tmp_order = [v for v in cat_order[cat_f] if v in tmp_df[cat_f].unique()] \\\n",
    "                if cat_order[cat_f] is not None else None\n",
    "    sns.countplot(\n",
    "        data = tmp_df,\n",
    "        y = cat_f,\n",
    "        hue = target,\n",
    "        ax = axes[iy, ix],\n",
    "        order = tmp_order\n",
    "    )\n",
    "\n",
    "plt.tight_layout()\n",
    "plt.show()\n"
   ]
  },
  {
   "cell_type": "markdown",
   "metadata": {},
   "source": [
    "#### Numeric variables"
   ]
  },
  {
   "cell_type": "code",
   "execution_count": null,
   "metadata": {},
   "outputs": [],
   "source": [
    "fig, axes = plt.subplots((len(num_features) + 2) // 3, 3, figsize = (20, 10))\n",
    "\n",
    "for i, num_f in enumerate(num_features):\n",
    "    ix = i % 3\n",
    "    iy = i // 3\n",
    "    sns.kdeplot(\n",
    "        data = df, \n",
    "        x = num_f,\n",
    "        hue = target,\n",
    "        ax = axes[iy, ix],\n",
    "        fill=True\n",
    "    )\n",
    "\n",
    "\n",
    "plt.tight_layout()\n",
    "plt.show()\n"
   ]
  },
  {
   "cell_type": "markdown",
   "metadata": {},
   "source": [
    "### Independent variables plots"
   ]
  },
  {
   "cell_type": "markdown",
   "metadata": {},
   "source": [
    "#### `age`"
   ]
  },
  {
   "cell_type": "code",
   "execution_count": null,
   "metadata": {},
   "outputs": [],
   "source": [
    "sns.catplot(\n",
    "    x = 'age',\n",
    "    y = 'occupation',\n",
    "    hue = target,\n",
    "    kind = 'box',\n",
    "    data = df\n",
    ")\n",
    "\n",
    "plt.tight_layout()\n",
    "plt.show()"
   ]
  },
  {
   "cell_type": "code",
   "execution_count": null,
   "metadata": {},
   "outputs": [],
   "source": [
    "age = df['age']\n",
    "assert age.between(17, 90).all()\n",
    "age.hist(bins = 74)\n",
    "plt.show()"
   ]
  },
  {
   "cell_type": "code",
   "execution_count": null,
   "metadata": {},
   "outputs": [],
   "source": [
    "sns.catplot(\n",
    "    x='age',\n",
    "    y='salary',\n",
    "    kind='violin',\n",
    "    data=df\n",
    " )\n",
    "plt.show()"
   ]
  },
  {
   "cell_type": "code",
   "execution_count": null,
   "metadata": {},
   "outputs": [],
   "source": [
    "sns.catplot(\n",
    "    x='age',\n",
    "    y='salary',\n",
    "    kind='box',\n",
    "    data=df\n",
    " )\n",
    "plt.show()"
   ]
  },
  {
   "cell_type": "markdown",
   "metadata": {},
   "source": [
    "#### `workclass`"
   ]
  },
  {
   "cell_type": "code",
   "execution_count": null,
   "metadata": {},
   "outputs": [],
   "source": [
    "workclass = df['workclass']\n",
    "workclass.value_counts()"
   ]
  },
  {
   "cell_type": "markdown",
   "metadata": {},
   "source": [
    "#### `fnlgt`"
   ]
  },
  {
   "cell_type": "code",
   "execution_count": null,
   "metadata": {},
   "outputs": [],
   "source": [
    "fnlgt = df['fnlgt']\n",
    "pd.DataFrame(data = {'10 largest': fnlgt.nlargest(10).values, '10 smallest': fnlgt.nsmallest(10).values})"
   ]
  },
  {
   "cell_type": "code",
   "execution_count": null,
   "metadata": {},
   "outputs": [],
   "source": [
    "fnlgt.hist(bins = 50)\n",
    "plt.show()"
   ]
  },
  {
   "cell_type": "markdown",
   "metadata": {},
   "source": [
    "#### `education`"
   ]
  },
  {
   "cell_type": "code",
   "execution_count": null,
   "metadata": {},
   "outputs": [],
   "source": [
    "education = df['education']\n",
    "education.value_counts()"
   ]
  },
  {
   "cell_type": "markdown",
   "metadata": {},
   "source": [
    "#### `education_num`"
   ]
  },
  {
   "cell_type": "code",
   "execution_count": null,
   "metadata": {},
   "outputs": [],
   "source": [
    "education_num = df['education_num']\n",
    "education_num.value_counts()"
   ]
  },
  {
   "cell_type": "markdown",
   "metadata": {},
   "source": [
    "#### `marital_status`"
   ]
  },
  {
   "cell_type": "code",
   "execution_count": null,
   "metadata": {},
   "outputs": [],
   "source": [
    "marital_status = df['marital_status']\n",
    "marital_status.value_counts()"
   ]
  },
  {
   "cell_type": "markdown",
   "metadata": {},
   "source": [
    "#### `occupation`"
   ]
  },
  {
   "cell_type": "code",
   "execution_count": null,
   "metadata": {},
   "outputs": [],
   "source": [
    "occupation = df['occupation']\n",
    "occupation.value_counts()"
   ]
  },
  {
   "cell_type": "markdown",
   "metadata": {},
   "source": [
    "#### `relationship`"
   ]
  },
  {
   "cell_type": "code",
   "execution_count": null,
   "metadata": {},
   "outputs": [],
   "source": [
    "relationship = df['relationship']\n",
    "relationship.value_counts()"
   ]
  },
  {
   "cell_type": "markdown",
   "metadata": {},
   "source": [
    "#### `race`"
   ]
  },
  {
   "cell_type": "code",
   "execution_count": null,
   "metadata": {},
   "outputs": [],
   "source": [
    "race = df['race']\n",
    "race.value_counts()"
   ]
  },
  {
   "cell_type": "markdown",
   "metadata": {},
   "source": [
    "#### `sex`"
   ]
  },
  {
   "cell_type": "code",
   "execution_count": null,
   "metadata": {},
   "outputs": [],
   "source": [
    "sex = df['sex']\n",
    "sex.value_counts()"
   ]
  },
  {
   "cell_type": "markdown",
   "metadata": {},
   "source": [
    "#### `capital_gain`"
   ]
  },
  {
   "cell_type": "code",
   "execution_count": null,
   "metadata": {},
   "outputs": [],
   "source": [
    "capital_gain = df['capital_gain']\n",
    "pd.DataFrame(data = {'10 largest': capital_gain.nlargest(10).values, '10 smallest': capital_gain.nsmallest(10).values})"
   ]
  },
  {
   "cell_type": "code",
   "execution_count": null,
   "metadata": {},
   "outputs": [],
   "source": [
    "capital_gain[(capital_gain != 0) & (capital_gain != 99999)].hist(bins = 50)\n",
    "plt.show()"
   ]
  },
  {
   "cell_type": "markdown",
   "metadata": {},
   "source": [
    "#### `capital_loss`"
   ]
  },
  {
   "cell_type": "code",
   "execution_count": null,
   "metadata": {},
   "outputs": [],
   "source": [
    "capital_loss = df['capital_loss']\n",
    "pd.DataFrame(data = {'10 largest': capital_loss.nlargest(10).values, '10 smallest': capital_loss.nsmallest(10).values})"
   ]
  },
  {
   "cell_type": "code",
   "execution_count": null,
   "metadata": {},
   "outputs": [],
   "source": [
    "capital_loss[capital_loss != 0].hist(bins = 50)\n",
    "plt.show()"
   ]
  },
  {
   "cell_type": "markdown",
   "metadata": {},
   "source": [
    "#### `hours_per_week`"
   ]
  },
  {
   "cell_type": "code",
   "execution_count": null,
   "metadata": {},
   "outputs": [],
   "source": [
    "hours_per_week = df['hours_per_week']\n",
    "pd.DataFrame(data = {'10 largest': hours_per_week.nlargest(10).values, '10 smallest': hours_per_week.nsmallest(10).values})"
   ]
  },
  {
   "cell_type": "code",
   "execution_count": null,
   "metadata": {},
   "outputs": [],
   "source": [
    "hours_per_week.hist(bins = 40)\n",
    "plt.show()"
   ]
  },
  {
   "cell_type": "markdown",
   "metadata": {},
   "source": [
    "#### `native_country`"
   ]
  },
  {
   "cell_type": "code",
   "execution_count": null,
   "metadata": {},
   "outputs": [],
   "source": [
    "native_country = df['native_country']\n",
    "native_country.value_counts()"
   ]
  },
  {
   "cell_type": "markdown",
   "metadata": {},
   "source": [
    "## Model bias"
   ]
  },
  {
   "cell_type": "markdown",
   "metadata": {},
   "source": [
    "### Preprocessing"
   ]
  },
  {
   "cell_type": "code",
   "execution_count": null,
   "metadata": {},
   "outputs": [],
   "source": [
    "y = df[target]\n",
    "X = df.loc[:, df.columns != target]\n",
    "\n",
    "y = target_encoder.transform(y)\n",
    "\n",
    "X_train, X_test, y_train, y_test = train_test_split(X, y, test_size = 0.2, stratify = y, random_state = RANDOM_STATE)\n",
    "\n",
    "df_aq = X_test.copy(deep = True)"
   ]
  },
  {
   "cell_type": "code",
   "execution_count": null,
   "metadata": {},
   "outputs": [],
   "source": [
    "df_aq['label_value'] = y_test\n",
    "df_aq['score'] = y_pred\n",
    "df_aq.head()"
   ]
  },
  {
   "cell_type": "code",
   "execution_count": null,
   "metadata": {},
   "outputs": [],
   "source": [
    "qcut_cols = [n for n in num_features if n not in ['fnlgt', 'education_num', 'capital_gain', 'capital_loss']]\n",
    "for num_f in qcut_cols:\n",
    "    df_aq[num_f + '_qcut'] = pd.qcut(df_aq[num_f], 10, duplicates = 'drop').astype(str)\n",
    "aq_cols = cat_features + [n + '_qcut' for n in qcut_cols] + ['label_value', 'score']\n",
    "df_aq = df_aq.loc[:, aq_cols]\n",
    "df_aq.head()"
   ]
  },
  {
   "cell_type": "code",
   "execution_count": null,
   "metadata": {},
   "outputs": [],
   "source": [
    "# merge small group frequencies\n",
    "def _transform_get_percentile(df, cat_f, target, percentile = 0.95):\n",
    "    \n",
    "    tmp_df = df[[cat_f, target]].copy(deep = True)\n",
    "    value_counts = tmp_df[cat_f].value_counts()\n",
    "    within_percentile = value_counts[value_counts.cumsum() <= percentile * tmp_df.shape[0]].index.tolist()\n",
    "    tmp_df[cat_f] = tmp_df[cat_f].map(lambda x: x if x in within_percentile else 'Other')\n",
    "\n",
    "    return tmp_df\n",
    "\n",
    "for cat_f in cat_features:\n",
    "    df_aq[cat_f] = _transform_get_percentile(df, cat_f, target)[cat_f]"
   ]
  },
  {
   "cell_type": "markdown",
   "metadata": {},
   "source": [
    "### Biases across subgroups"
   ]
  },
  {
   "cell_type": "code",
   "execution_count": null,
   "metadata": {},
   "outputs": [],
   "source": [
    "from aequitas.group import Group\n",
    "from aequitas.bias import Bias \n",
    "from aequitas.fairness import Fairness\n",
    "from aequitas.plotting import Plot\n",
    "\n",
    "aqp = Plot()"
   ]
  },
  {
   "cell_type": "code",
   "execution_count": null,
   "metadata": {},
   "outputs": [],
   "source": [
    "group = Group()\n",
    "xtab, idxs = group.get_crosstabs(df_aq)\n",
    "absolute_metrics = group.list_absolute_metrics(xtab)\n",
    "\n",
    "# xtab[[col for col in xtab.columns if col not in absolute_metrics + ['model_id', 'score_threshold', 'k', 'pp', 'pn', 'group_label_pos', 'group_label_neg']]]\n",
    "group_size_fr = xtab['group_size'] / xtab['total_entities']\n",
    "xtab.loc[group_size_fr >= 0.05, ['attribute_name', 'attribute_value', 'tp', 'fp', 'tn', 'fn', 'tpr', 'tnr', 'precision', 'npv', 'group_size', 'total_entities']].round(2)"
   ]
  },
  {
   "cell_type": "code",
   "execution_count": null,
   "metadata": {},
   "outputs": [],
   "source": [
    "fnr = aqp.plot_group_metric_all(xtab[(group_size_fr >= 0.01) & xtab['attribute_name'].isin(['marital_status', 'race', 'sex'])], ncols = 3)"
   ]
  },
  {
   "cell_type": "markdown",
   "metadata": {},
   "source": [
    "### Disparsity levels across groups w.r.t. majority group"
   ]
  },
  {
   "cell_type": "code",
   "execution_count": null,
   "metadata": {},
   "outputs": [],
   "source": [
    "# define major groups\n",
    "ref_group = {}\n",
    "for c in cat_features + [n + '_qcut' for n in qcut_cols]:\n",
    "    ref_group[c] = df_aq[c].value_counts().index[0]\n",
    "\n",
    "bias = Bias()\n",
    "bias_df = bias.get_disparity_predefined_groups(\n",
    "    xtab, original_df = df_aq,\n",
    "    ref_groups_dict = ref_group,\n",
    "    alpha = 0.05, check_significance = True, mask_significance=True)"
   ]
  },
  {
   "cell_type": "code",
   "execution_count": null,
   "metadata": {},
   "outputs": [],
   "source": [
    "metric = 'npv'\n",
    "bias_df.loc[\n",
    "    (bias_df[metric + '_significance'] == True) & bias_df['attribute_name'].isin(['marital_status', 'race', 'sex', 'native_country']), \n",
    "    ['attribute_name', 'attribute_value', 'group_size', 'label_value_significance', 'score_significance', metric + '_disparity', metric + '_significance', metric + '_ref_group_value']\n",
    "]"
   ]
  },
  {
   "cell_type": "code",
   "execution_count": null,
   "metadata": {},
   "outputs": [],
   "source": [
    "_ = aqp.plot_disparity_all(bias_df, metrics = [metric + '_disparity'], significance_alpha=0.05)"
   ]
  },
  {
   "cell_type": "code",
   "execution_count": null,
   "metadata": {},
   "outputs": [],
   "source": [
    "_ = aqp.plot_disparity_all(bias_df, attributes = ['native_country'], significance_alpha=0.05)"
   ]
  },
  {
   "cell_type": "markdown",
   "metadata": {},
   "source": [
    "### Model and group level fairness"
   ]
  },
  {
   "cell_type": "code",
   "execution_count": null,
   "metadata": {},
   "outputs": [],
   "source": [
    "fairness = Fairness()\n",
    "fairness_df = fairness.get_group_value_fairness(bias_df)\n",
    "\n",
    "gof = fairness.get_overall_fairness(fairness_df)\n",
    "gof"
   ]
  },
  {
   "cell_type": "code",
   "execution_count": null,
   "metadata": {},
   "outputs": [],
   "source": [
    "_ = aqp.plot_fairness_disparity_all(bias_df, metrics=[metric + '_disparity'], significance_alpha=0.05)"
   ]
  },
  {
   "cell_type": "code",
   "execution_count": null,
   "metadata": {},
   "outputs": [],
   "source": []
  }
 ],
 "metadata": {
  "kernelspec": {
   "display_name": "Python 3.8.13 ('udacity-mldevops-3rd-project')",
   "language": "python",
   "name": "python3"
  },
  "language_info": {
   "codemirror_mode": {
    "name": "ipython",
    "version": 3
   },
   "file_extension": ".py",
   "mimetype": "text/x-python",
   "name": "python",
   "nbconvert_exporter": "python",
   "pygments_lexer": "ipython3",
   "version": "3.9.13"
  },
  "orig_nbformat": 4,
  "vscode": {
   "interpreter": {
    "hash": "7398f253271b3d820258efcb907d010d4e8443461b83c64c13eac9ca16b05d4c"
   }
  }
 },
 "nbformat": 4,
 "nbformat_minor": 2
}
